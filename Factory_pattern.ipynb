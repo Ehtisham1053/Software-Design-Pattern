{
  "nbformat": 4,
  "nbformat_minor": 0,
  "metadata": {
    "colab": {
      "provenance": [],
      "authorship_tag": "ABX9TyOQN5HCm/F+i2YxVGw9M2S1",
      "include_colab_link": true
    },
    "kernelspec": {
      "name": "python3",
      "display_name": "Python 3"
    },
    "language_info": {
      "name": "python"
    }
  },
  "cells": [
    {
      "cell_type": "markdown",
      "metadata": {
        "id": "view-in-github",
        "colab_type": "text"
      },
      "source": [
        "<a href=\"https://colab.research.google.com/github/Ehtisham1053/Software-Design-Pattern/blob/main/Factory_pattern.ipynb\" target=\"_parent\"><img src=\"https://colab.research.google.com/assets/colab-badge.svg\" alt=\"Open In Colab\"/></a>"
      ]
    },
    {
      "cell_type": "markdown",
      "source": [
        "## Factory design pattern"
      ],
      "metadata": {
        "id": "LgsREUG2yMrD"
      }
    },
    {
      "cell_type": "markdown",
      "source": [
        "The Factory Design Pattern is a creational pattern that provides an interface for creating objects but allows subclasses to alter the type of objects that will be created. It helps in encapsulating object creation logic, making the code more modular and scalable."
      ],
      "metadata": {
        "id": "CYEdEDZSyQaU"
      }
    },
    {
      "cell_type": "code",
      "execution_count": null,
      "metadata": {
        "colab": {
          "base_uri": "https://localhost:8080/"
        },
        "id": "Bkp6D2Oaxup0",
        "outputId": "e172c39c-9761-4fc4-d36b-afd0180fc3b5"
      },
      "outputs": [
        {
          "output_type": "stream",
          "name": "stdout",
          "text": [
            "Enter animal type (Dog/Cat): Cat\n",
            "Cat says: Meow!\n"
          ]
        }
      ],
      "source": [
        "from abc import ABC, abstractmethod\n",
        "\n",
        "# Step 1: Define an abstract class (Interface)\n",
        "class Animal(ABC):\n",
        "    @abstractmethod\n",
        "    def speak(self):\n",
        "        pass\n",
        "\n",
        "# Step 2: Create Concrete Classes\n",
        "class Dog(Animal):\n",
        "    def speak(self):\n",
        "        return \"Woof!\"\n",
        "\n",
        "class Cat(Animal):\n",
        "    def speak(self):\n",
        "        return \"Meow!\"\n",
        "\n",
        "# Step 3: Create the Factory Class\n",
        "class AnimalFactory:\n",
        "    @staticmethod\n",
        "    def get_animal(animal_type):\n",
        "        if animal_type.lower() == \"dog\":\n",
        "            return Dog()\n",
        "        elif animal_type.lower() == \"cat\":\n",
        "            return Cat()\n",
        "        else:\n",
        "            raise ValueError(\"Unknown Animal Type\")\n",
        "\n",
        "\n",
        "animal_type = input(\"Enter animal type (Dog/Cat): \")\n",
        "animal = AnimalFactory.get_animal(animal_type)\n",
        "print(f\"{animal_type} says: {animal.speak()}\")\n"
      ]
    },
    {
      "cell_type": "code",
      "source": [
        "# static method\n",
        "class MathUtils:\n",
        "    @staticmethod\n",
        "    def add(x, y):\n",
        "        return x + y\n",
        "\n",
        "    @staticmethod\n",
        "    def multiply(x, y):\n",
        "        return x * y\n",
        "\n",
        "print(MathUtils.multiply(5, 10))\n",
        "print(MathUtils.add(5, 10))\n",
        "\n",
        "\n",
        "# Does not take a cls or self parameter.\n",
        "# Acts like a regular function but is inside a class for better organization.\n",
        "# Cannot modify class or instance attributes.\n",
        "# Used for utility/helper functions.\n"
      ],
      "metadata": {
        "colab": {
          "base_uri": "https://localhost:8080/"
        },
        "id": "LQzVEo2ozB2w",
        "outputId": "b756b18d-4bf3-425c-eefe-64d9dbc6c59c"
      },
      "execution_count": null,
      "outputs": [
        {
          "output_type": "stream",
          "name": "stdout",
          "text": [
            "50\n",
            "15\n"
          ]
        }
      ]
    },
    {
      "cell_type": "code",
      "source": [
        "# class method\n",
        "class Counter:\n",
        "    count = 0\n",
        "\n",
        "    @classmethod\n",
        "    def increment(cls):\n",
        "        cls.count += 1\n",
        "        return cls.count\n",
        "\n",
        "print(Counter.increment())\n",
        "print(Counter.increment())\n"
      ],
      "metadata": {
        "colab": {
          "base_uri": "https://localhost:8080/"
        },
        "id": "3-54sWVqzjal",
        "outputId": "8e320bf7-6dac-4ae6-d8b6-08f736d5b0cd"
      },
      "execution_count": null,
      "outputs": [
        {
          "output_type": "stream",
          "name": "stdout",
          "text": [
            "1\n",
            "2\n"
          ]
        }
      ]
    },
    {
      "cell_type": "markdown",
      "source": [
        "## Notification system using the factory SDP pattern"
      ],
      "metadata": {
        "id": "aLOXzehK4tjS"
      }
    },
    {
      "cell_type": "code",
      "source": [
        "from abc import ABC, abstractmethod\n",
        "\n",
        "# Step 1: Define an Abstract Base Class for Notifications\n",
        "class Notification(ABC):\n",
        "    @abstractmethod\n",
        "    def send(self, message):\n",
        "        pass\n",
        "\n",
        "# Step 2: Implement Concrete Classes for Different Notification Types\n",
        "class EmailNotification(Notification):\n",
        "    def send(self, message):\n",
        "        return f\"Email sent with message: {message}\"\n",
        "\n",
        "class SMSNotification(Notification):\n",
        "    def send(self, message):\n",
        "        return f\"SMS sent with message: {message}\"\n",
        "\n",
        "class PushNotification(Notification):\n",
        "    def send(self, message):\n",
        "        return f\"Push Notification sent with message: {message}\"\n",
        "\n",
        "# Step 3: Create a Factory Class to Generate Notification Objects\n",
        "class NotificationFactory:\n",
        "    @staticmethod\n",
        "    def get_notification(channel):\n",
        "        if channel.lower() == \"email\":\n",
        "            return EmailNotification()\n",
        "        elif channel.lower() == \"sms\":\n",
        "            return SMSNotification()\n",
        "        elif channel.lower() == \"push\":\n",
        "            return PushNotification()\n",
        "        else:\n",
        "            raise ValueError(\"Invalid notification channel\")\n",
        "\n",
        "# Step 4: Client Code\n",
        "if __name__ == \"__main__\":\n",
        "    channels = [\"email\", \"sms\", \"push\", \"unknown\"]\n",
        "\n",
        "    for channel in channels:\n",
        "        try:\n",
        "            notification = NotificationFactory.get_notification(channel)\n",
        "            print(notification.send(\"Your order has been shipped!\"))\n",
        "        except ValueError as e:\n",
        "            print(f\"Error: {e}\")\n"
      ],
      "metadata": {
        "colab": {
          "base_uri": "https://localhost:8080/"
        },
        "id": "SpVQ1Tvq0TI5",
        "outputId": "a176a2a5-2170-417a-a423-c0873e076917"
      },
      "execution_count": null,
      "outputs": [
        {
          "output_type": "stream",
          "name": "stdout",
          "text": [
            "Email sent with message: Your order has been shipped!\n",
            "SMS sent with message: Your order has been shipped!\n",
            "Push Notification sent with message: Your order has been shipped!\n",
            "Error: Invalid notification channel\n"
          ]
        }
      ]
    },
    {
      "cell_type": "markdown",
      "source": [
        "# Dynamic Factory Method in Python\n",
        "A Dynamic Factory is an advanced version of the Factory Pattern that allows the system to register new types dynamically instead of hardcoding them. This makes the factory more flexible and scalable."
      ],
      "metadata": {
        "id": "JhnDlsSl442U"
      }
    },
    {
      "cell_type": "markdown",
      "source": [
        "### Implementation of a Dynamic Notification Factory"
      ],
      "metadata": {
        "id": "UhXGRkIu4_QG"
      }
    },
    {
      "cell_type": "code",
      "source": [
        "from abc import ABC, abstractmethod\n",
        "\n",
        "# Step 1: Define an Abstract Base Class for Notifications\n",
        "class Notification(ABC):\n",
        "    @abstractmethod\n",
        "    def send(self, message):\n",
        "        pass\n",
        "\n",
        "# Step 2: Implement Concrete Classes for Different Notification Types\n",
        "class EmailNotification(Notification):\n",
        "    def send(self, message):\n",
        "        return f\"Email sent with message: {message}\"\n",
        "\n",
        "class SMSNotification(Notification):\n",
        "    def send(self, message):\n",
        "        return f\"SMS sent with message: {message}\"\n",
        "\n",
        "class PushNotification(Notification):\n",
        "    def send(self, message):\n",
        "        return f\"Push Notification sent with message: {message}\"\n",
        "\n",
        "# Step 3: Create a Dynamic Factory Class\n",
        "class DynamicNotificationFactory:\n",
        "    _registered_notifications = {}\n",
        "\n",
        "    @classmethod\n",
        "    def register_notification(cls, key, notification_class):\n",
        "        \"\"\"Registers a new notification type dynamically.\"\"\"\n",
        "        if not issubclass(notification_class, Notification):\n",
        "            raise TypeError(f\"{notification_class} must be a subclass of Notification\")\n",
        "        cls._registered_notifications[key.lower()] = notification_class\n",
        "\n",
        "    @classmethod\n",
        "    def get_notification(cls, channel):\n",
        "        \"\"\"Creates a notification instance dynamically.\"\"\"\n",
        "        notification_class = cls._registered_notifications.get(channel.lower())\n",
        "        if not notification_class:\n",
        "            raise ValueError(f\"No notification type registered for: {channel}\")\n",
        "        return notification_class()  # Instantiate the registered class\n",
        "\n",
        "# Step 4: Registering Notification Types\n",
        "DynamicNotificationFactory.register_notification(\"email\", EmailNotification)\n",
        "DynamicNotificationFactory.register_notification(\"sms\", SMSNotification)\n",
        "DynamicNotificationFactory.register_notification(\"push\", PushNotification)\n",
        "\n",
        "# Step 5: Client Code\n",
        "if __name__ == \"__main__\":\n",
        "    channels = [\"email\", \"sms\", \"push\", \"unknown\"]\n",
        "\n",
        "    for channel in channels:\n",
        "        try:\n",
        "            notification = DynamicNotificationFactory.get_notification(channel)\n",
        "            print(notification.send(\"Your package is arriving soon!\"))\n",
        "        except ValueError as e:\n",
        "            print(f\"Error: {e}\")\n"
      ],
      "metadata": {
        "id": "4Cij8mYr2wv6",
        "colab": {
          "base_uri": "https://localhost:8080/"
        },
        "outputId": "27d2ea3d-7ac4-4827-9528-438444fd8eb4"
      },
      "execution_count": 1,
      "outputs": [
        {
          "output_type": "stream",
          "name": "stdout",
          "text": [
            "Email sent with message: Your package is arriving soon!\n",
            "SMS sent with message: Your package is arriving soon!\n",
            "Push Notification sent with message: Your package is arriving soon!\n",
            "Error: No notification type registered for: unknown\n"
          ]
        }
      ]
    },
    {
      "cell_type": "markdown",
      "source": [
        "## Advantages of Dynamic Factory\n",
        "* ✔ Highly Flexible: New notification types can be added at runtime without modifying the factory.\n",
        "* ✔ Decoupled Code: The client does not need to know about specific notification classes.\n",
        "* ✔ Scalability: Supports any number of notification types dynamically."
      ],
      "metadata": {
        "id": "G5xICyan5FS-"
      }
    },
    {
      "cell_type": "markdown",
      "source": [
        "## Implementation of Dynamic Factory for Payment Processing"
      ],
      "metadata": {
        "id": "Wd7VuVS35UIl"
      }
    },
    {
      "cell_type": "code",
      "source": [],
      "metadata": {
        "id": "wpIF0t6h5A_g"
      },
      "execution_count": null,
      "outputs": []
    }
  ]
}